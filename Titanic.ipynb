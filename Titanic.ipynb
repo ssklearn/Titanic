{
  "nbformat": 4,
  "nbformat_minor": 0,
  "metadata": {
    "colab": {
      "provenance": []
    },
    "kernelspec": {
      "name": "python3",
      "display_name": "Python 3"
    },
    "language_info": {
      "name": "python"
    }
  },
  "cells": [
    {
      "cell_type": "code",
      "execution_count": 10,
      "metadata": {
        "id": "z3_h0SnqPh4_",
        "colab": {
          "base_uri": "https://localhost:8080/"
        },
        "outputId": "088bf7f6-0d57-450e-ff88-2559bc6fa9dc"
      },
      "outputs": [
        {
          "output_type": "stream",
          "name": "stdout",
          "text": [
            "Your submission was successfully saved!\n"
          ]
        }
      ],
      "source": [
        "import numpy as np\n",
        "import pandas as pd\n",
        "from sklearn.ensemble import RandomForestClassifier\n",
        "from sklearn.impute import SimpleImputer\n",
        "from sklearn.model_selection import cross_val_score\n",
        "\n",
        "# Load the data\n",
        "train_data = pd.read_csv(\"/content/drive/MyDrive/train_titanic.csv\")\n",
        "test_data = pd.read_csv(\"/content/drive/MyDrive/test_titanic.csv\")\n",
        "\n",
        "# Feature Engineering\n",
        "# Combine \"SibSp\" and \"Parch\" into a new feature \"FamilySize\"\n",
        "train_data['FamilySize'] = train_data['SibSp'] + train_data['Parch'] + 1\n",
        "test_data['FamilySize'] = test_data['SibSp'] + test_data['Parch'] + 1\n",
        "\n",
        "# Extract titles from names\n",
        "train_data['Title'] = train_data['Name'].str.extract(' ([A-Za-z]+)\\.', expand=False)\n",
        "test_data['Title'] = test_data['Name'].str.extract(' ([A-Za-z]+)\\.', expand=False)\n",
        "\n",
        "# Map titles to categories\n",
        "title_mapping = {\n",
        "    \"Mr\": 0, \"Miss\": 1, \"Mrs\": 2, \"Master\": 3, \"Dr\": 4, \"Rev\": 4, \"Col\": 4, \"Major\": 4,\n",
        "    \"Mlle\": 1, \"Mme\": 2, \"Don\": 4, \"Lady\": 5, \"Countess\": 5, \"Jonkheer\": 5, \"Sir\": 5,\n",
        "    \"Capt\": 4, \"Ms\": 1\n",
        "}\n",
        "\n",
        "# Fill missing age values with overall median age\n",
        "overall_median_age = train_data['Age'].median()\n",
        "train_data['Age'].fillna(overall_median_age, inplace=True)\n",
        "test_data['Age'].fillna(overall_median_age, inplace=True)\n",
        "\n",
        "# Fill missing fare value in test data with median fare\n",
        "test_data['Fare'].fillna(test_data['Fare'].median(), inplace=True)\n",
        "\n",
        "# Map gender to numerical values\n",
        "train_data['Sex'] = train_data['Sex'].map({\"male\": 0, \"female\": 1})\n",
        "test_data['Sex'] = test_data['Sex'].map({\"male\": 0, \"female\": 1})\n",
        "\n",
        "# Map titles to numerical values using the title_mapping dictionary\n",
        "train_data['Title'] = train_data['Title'].map(title_mapping)\n",
        "test_data['Title'] = test_data['Title'].map(title_mapping)\n",
        "\n",
        "# Select relevant features\n",
        "features = [\"Pclass\", \"Sex\", \"FamilySize\", \"Fare\", \"Title\"]\n",
        "\n",
        "# Create dummy variables for categorical features\n",
        "X = pd.get_dummies(train_data[features])\n",
        "X_test = pd.get_dummies(test_data[features])\n",
        "\n",
        "# Impute missing values in X_test\n",
        "imputer = SimpleImputer(strategy='mean')\n",
        "X_test_imputed = pd.DataFrame(imputer.fit_transform(X_test), columns=X_test.columns)\n",
        "\n",
        "# Build a random forest model\n",
        "model = RandomForestClassifier(n_estimators=100, max_depth=5, random_state=1)\n",
        "\n",
        "# Evaluate the model using cross-validation\n",
        "cross_val_score(model, X, train_data[\"Survived\"], cv=5, scoring=\"accuracy\")\n",
        "\n",
        "# Fit the model\n",
        "model.fit(X, train_data[\"Survived\"])\n",
        "\n",
        "# Make predictions\n",
        "predictions = model.predict(X_test_imputed)\n",
        "\n",
        "# Save predictions to a CSV file\n",
        "output = pd.DataFrame({'PassengerId': test_data.PassengerId, 'Survived': predictions})\n",
        "output.to_csv('submission.csv', index=False)\n",
        "print(\"Your submission was successfully saved!\")\n"
      ]
    }
  ]
}